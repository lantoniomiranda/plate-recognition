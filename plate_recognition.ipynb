{
 "nbformat": 4,
 "nbformat_minor": 0,
 "metadata": {
  "colab": {
   "provenance": [],
   "machine_shape": "hm",
   "gpuType": "L4"
  },
  "kernelspec": {
   "name": "python3",
   "display_name": "Python 3"
  },
  "language_info": {
   "name": "python"
  },
  "accelerator": "GPU"
 },
 "cells": [
  {
   "metadata": {},
   "cell_type": "code",
   "outputs": [],
   "execution_count": null,
   "source": [
    "!pip install ultralytics\n",
    "!pip install torch"
   ]
  },
  {
   "cell_type": "code",
   "source": [
    "import torch\n",
    "import cv2\n",
    "import os\n",
    "\n",
    "device = torch.device('cuda' if torch.cuda.is_available() else 'cpu')\n",
    "print(f'Using device: {device}, {torch.cuda.get_device_name(torch.cuda.current_device())}')"
   ],
   "metadata": {
    "colab": {
     "base_uri": "https://localhost:8080/"
    },
    "id": "2My-byhGsM_H",
    "outputId": "1c923f34-e29d-4d08-f1c7-395d842c9f2f"
   },
   "outputs": [],
   "execution_count": null
  },
  {
   "cell_type": "code",
   "source": [
    "from ultralytics import YOLO\n",
    "\n",
    "model = YOLO(\"yolov9c.pt\")\n",
    "model.info()\n",
    "\n",
    "results = model.train(data=\"/content/dataset/data.yaml\", epochs=100, imgsz=416, batch=64, workers=16)"
   ],
   "metadata": {
    "id": "xzt6oxkIULU8",
    "colab": {
     "base_uri": "https://localhost:8080/"
    },
    "outputId": "ca59ee54-0b56-493a-9363-7c73333b35b1"
   },
   "outputs": [],
   "execution_count": null
  },
  {
   "cell_type": "code",
   "source": [
    "model.save(\"/content/trained_yolov9c.pt\")\n",
    "results = model(\"input.mp4\")"
   ],
   "metadata": {
    "id": "phlH3iGBxLOI",
    "colab": {
     "base_uri": "https://localhost:8080/"
    },
    "outputId": "17e4a808-3247-4f1b-f901-488657ee805c"
   },
   "outputs": [],
   "execution_count": null
  },
  {
   "cell_type": "code",
   "source": [
    "def predict_and_detect(model, img, conf=0.5, rectangle_thickness=2, text_thickness=2):\n",
    "    results = model.predict(source=img, conf=conf)  # Use the YOLO model to predict\n",
    "    for result in results:\n",
    "        for box in result.boxes:\n",
    "            x1, y1, x2, y2 = map(int, box.xyxy[0])\n",
    "            cv2.rectangle(img, (x1, y1), (x2, y2), (0, 0, 255), rectangle_thickness)\n",
    "            text = f\"License Plate: {box.conf[0].item():.2f}\"\n",
    "            cv2.putText(img, text, (x1, y1 - 10), cv2.FONT_HERSHEY_PLAIN, 1, (0, 0, 255), text_thickness)\n",
    "    return img"
   ],
   "metadata": {
    "id": "K7Stre62iymR"
   },
   "outputs": [],
   "execution_count": null
  },
  {
   "cell_type": "code",
   "source": [
    "def create_video_writer(video_cap, output_filename):\n",
    "    frame_width = int(video_cap.get(cv2.CAP_PROP_FRAME_WIDTH))\n",
    "    frame_height = int(video_cap.get(cv2.CAP_PROP_FRAME_HEIGHT))\n",
    "    fps = int(video_cap.get(cv2.CAP_PROP_FPS))\n",
    "\n",
    "    fourcc = cv2.VideoWriter_fourcc(*'mp4v')\n",
    "    writer = cv2.VideoWriter(output_filename, fourcc, fps, (frame_width, frame_height))\n",
    "\n",
    "    return writer"
   ],
   "metadata": {
    "id": "IJr0rDLBizNL"
   },
   "outputs": [],
   "execution_count": null
  },
  {
   "cell_type": "code",
   "source": [
    "def process_video(input_video_path, output_filename, model, conf=0.5):\n",
    "    output_dir = \"/content/outputs\"\n",
    "    os.makedirs(output_dir, exist_ok=True)\n",
    "\n",
    "    output_video_path = os.path.join(output_dir, output_filename)\n",
    "\n",
    "    cap = cv2.VideoCapture(input_video_path)\n",
    "\n",
    "    if not cap.isOpened():\n",
    "        print(\"Error: Unable to open file.\")\n",
    "        return\n",
    "\n",
    "    writer = create_video_writer(cap, output_video_path)\n",
    "\n",
    "    frame_count = 0\n",
    "    while True:\n",
    "        success, img = cap.read()\n",
    "        if not success:\n",
    "            print(\"Error: Unable to read frame or video has ended.\")\n",
    "            break\n",
    "\n",
    "        result_img = predict_and_detect(model, img, conf=conf)\n",
    "\n",
    "        writer.write(result_img)\n",
    "        cv2.waitKey(1)\n",
    "\n",
    "        frame_count += 1\n",
    "        print(f\"Frame {frame_count} processed.\")\n",
    "\n",
    "    cap.release()\n",
    "    writer.release()\n",
    "    cv2.destroyAllWindows()\n",
    "    print(f\"The video has been processed successfully and saved to {output_video_path}.\")"
   ],
   "metadata": {
    "id": "Qcp4VP_RQ7UF"
   },
   "outputs": [],
   "execution_count": null
  },
  {
   "cell_type": "code",
   "source": [
    "# first run with 0.5 confidence\n",
    "\n",
    "input_video_path = \"input.mp4\"\n",
    "output_video_path = \"output-0.5confidence.mp4\"\n",
    "process_video(input_video_path, output_video_path, model, conf=0.5)"
   ],
   "metadata": {
    "id": "72KXuwz_IO4R",
    "colab": {
     "base_uri": "https://localhost:8080/"
    },
    "outputId": "43a786cd-f734-4660-fac9-7615c9ca6079"
   },
   "outputs": [],
   "execution_count": null
  },
  {
   "cell_type": "code",
   "source": [
    "# second run with 0.1 confidence\n",
    "\n",
    "input_video_path = \"input.mp4\"\n",
    "output_video_path = \"output-0.1confidence.mp4\"\n",
    "process_video(input_video_path, output_video_path, model, conf=0.1)"
   ],
   "metadata": {
    "id": "7v7F6O-pgnk_",
    "colab": {
     "base_uri": "https://localhost:8080/"
    },
    "outputId": "c3cb1b5b-2d98-4bfa-94f7-5bd1fa242bad"
   },
   "outputs": [],
   "execution_count": null
  },
  {
   "cell_type": "code",
   "source": [
    "import locale\n",
    "locale.getpreferredencoding = lambda: \"UTF-8\"\n",
    "\n",
    "!pip install easyocr"
   ],
   "metadata": {
    "id": "6thaH7zbLcQm",
    "colab": {
     "base_uri": "https://localhost:8080/"
    },
    "outputId": "d34f7c15-7ed6-45f8-fc99-48a39f471018"
   },
   "outputs": [],
   "execution_count": null
  },
  {
   "cell_type": "code",
   "source": [
    "import easyocr\n",
    "import numpy as np\n",
    "\n",
    "def detect_color(roi):\n",
    "\n",
    "  hsv = cv2.cvtColor(roi, cv2.COLOR_BGR2HSV)\n",
    "  colors = {\n",
    "        \"Red\": ([0, 120, 70], [10, 255, 255]),\n",
    "        \"Green\": ([36, 25, 25], [70, 255, 255]),\n",
    "        \"Blue\": ([94, 80, 2], [126, 255, 255]),\n",
    "        \"Yellow\": ([15, 150, 150], [35, 255, 255]),\n",
    "        \"Black\": ([0, 0, 0], [180, 255, 30]),\n",
    "        \"White\": ([0, 0, 200], [180, 20, 255]),\n",
    "        \"Gray\": ([0, 0, 40], [180, 20, 200])\n",
    "    }\n",
    "  max_pixels = 0\n",
    "  dominant_color = \"Unknown\"\n",
    "\n",
    "  for color, (lower, upper) in colors.items():\n",
    "      mask = cv2.inRange(hsv, np.array(lower), np.array(upper))\n",
    "      num_pixels = cv2.countNonZero(mask)\n",
    "\n",
    "      if num_pixels > max_pixels:\n",
    "          max_pixels = num_pixels\n",
    "          dominant_color = color\n",
    "\n",
    "  return dominant_color"
   ],
   "metadata": {
    "id": "ez0-oGi4K8JU"
   },
   "outputs": [],
   "execution_count": null
  },
  {
   "cell_type": "code",
   "source": [
    "# update predict_and_detect to use EasyOCR and color detection\n",
    "reader = easyocr.Reader(['en'])\n",
    "\n",
    "def predict_and_detect(model, img, conf=0.5, rectangle_thickness=2, text_thickness=2):\n",
    "    results = model.predict(source=img, conf=conf)  # Use the YOLO model to predict\n",
    "    for result in results:\n",
    "        for box in result.boxes:\n",
    "            x1, y1, x2, y2 = map(int, box.xyxy[0])\n",
    "\n",
    "            plate_img = img[y1:y2, x1:x2]\n",
    "\n",
    "            expand_y = int((y2 - y1) * 4)\n",
    "            expand_x = int((x2 - x1) * 3)\n",
    "            y1_expanded = max(y1 - expand_y // 2, 0)\n",
    "            y2_expanded = min(y2 + expand_y // 2, img.shape[0])\n",
    "            x1_expanded = max(x1 - expand_x // 2, 0)\n",
    "            x2_expanded = min(x2 + expand_x // 2, img.shape[1])\n",
    "\n",
    "            car_roi = img[y1_expanded:y2_expanded, x1_expanded:x2_expanded]\n",
    "\n",
    "            ocr_result = reader.readtext(plate_img)\n",
    "            license_plate_text = \"Unknown\"\n",
    "            if ocr_result:\n",
    "                license_plate_text = ocr_result[0][-2]\n",
    "\n",
    "            car_color = detect_color(car_roi)\n",
    "\n",
    "            cv2.rectangle(img, (x1, y1), (x2, y2), (0, 0, 255), rectangle_thickness)\n",
    "            text = f\"{license_plate_text}, {car_color}\"\n",
    "            cv2.putText(img, text, (x1, y1 - 10), cv2.FONT_HERSHEY_PLAIN, 1, (0, 0, 255), text_thickness)\n",
    "    return img"
   ],
   "metadata": {
    "id": "QqRb83v7L5_I"
   },
   "outputs": [],
   "execution_count": null
  },
  {
   "cell_type": "code",
   "source": [
    "# run again with easyocr and color detection\n",
    "\n",
    "input_video_path = \"input.mp4\"\n",
    "output_video_path = \"output-final.mp4\"\n",
    "process_video(input_video_path, output_video_path, model, conf=0.5)"
   ],
   "metadata": {
    "id": "B8pXonVxMG8Q",
    "colab": {
     "base_uri": "https://localhost:8080/"
    },
    "outputId": "41415670-4b71-4520-e48d-60f938f65e55"
   },
   "outputs": [],
   "execution_count": null
  }
 ]
}
